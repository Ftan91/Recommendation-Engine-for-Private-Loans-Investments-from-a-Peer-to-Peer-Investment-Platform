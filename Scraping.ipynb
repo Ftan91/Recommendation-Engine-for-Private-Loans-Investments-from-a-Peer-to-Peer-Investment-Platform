{
 "cells": [
  {
   "cell_type": "code",
   "execution_count": 1,
   "metadata": {},
   "outputs": [],
   "source": [
    "import pandas as pd\n",
    "import numpy as np\n",
    "import math\n",
    "import time\n",
    "from selenium import webdriver\n",
    "from selenium.common.exceptions import NoSuchElementException, StaleElementReferenceException, ElementClickInterceptedException"
   ]
  },
  {
   "cell_type": "code",
   "execution_count": 2,
   "metadata": {},
   "outputs": [],
   "source": [
    "columns = ['Note_ID', 'Grade', 'Rate_%', 'Effective_Rate_%', 'Term', 'PD_%', 'Funding', 'Funded_%']\n",
    "df = pd.DataFrame(None,columns = columns)"
   ]
  },
  {
   "cell_type": "code",
   "execution_count": 3,
   "metadata": {},
   "outputs": [],
   "source": [
    "url = 'https://p2p.fundaztic.com/loaninfo/openHistoryLoan.htm'\n",
    "driver = webdriver.Chrome('/Users/weeliptan/Desktop/chromedriver')\n",
    "driver.get(url)\n",
    "time.sleep(5)"
   ]
  },
  {
   "cell_type": "code",
   "execution_count": 4,
   "metadata": {},
   "outputs": [],
   "source": [
    "page_element = driver.find_elements_by_xpath(\"//*[@class='l_page']\")\n",
    "total_pages = math.ceil(int(page_element[0].text.split()[6]) / 10)"
   ]
  },
  {
   "cell_type": "code",
   "execution_count": 5,
   "metadata": {},
   "outputs": [
    {
     "name": "stdout",
     "output_type": "stream",
     "text": [
      "Pages scrapped: 1\n",
      "Pages scrapped: 2\n",
      "Pages scrapped: 3\n",
      "Pages scrapped: 4\n",
      "Pages scrapped: 5\n",
      "Pages scrapped: 6\n",
      "Pages scrapped: 7\n",
      "Pages scrapped: 8\n",
      "Pages scrapped: 9\n",
      "Pages scrapped: 10\n",
      "Pages scrapped: 11\n",
      "Pages scrapped: 12\n",
      "Pages scrapped: 13\n",
      "Pages scrapped: 14\n",
      "Pages scrapped: 15\n",
      "Pages scrapped: 16\n",
      "Pages scrapped: 17\n",
      "Pages scrapped: 18\n",
      "Pages scrapped: 19\n",
      "Pages scrapped: 20\n",
      "Pages scrapped: 21\n",
      "Pages scrapped: 22\n",
      "Pages scrapped: 23\n",
      "Pages scrapped: 24\n",
      "Pages scrapped: 25\n",
      "Pages scrapped: 26\n",
      "Pages scrapped: 27\n",
      "Pages scrapped: 28\n",
      "Pages scrapped: 29\n",
      "Pages scrapped: 30\n",
      "Pages scrapped: 31\n",
      "Pages scrapped: 32\n",
      "Pages scrapped: 33\n",
      "Pages scrapped: 34\n",
      "Pages scrapped: 35\n",
      "Pages scrapped: 36\n",
      "Pages scrapped: 37\n",
      "Pages scrapped: 38\n",
      "Pages scrapped: 39\n",
      "Pages scrapped: 40\n",
      "Pages scrapped: 41\n",
      "Pages scrapped: 42\n",
      "Pages scrapped: 43\n",
      "Pages scrapped: 44\n",
      "Pages scrapped: 45\n",
      "Pages scrapped: 46\n",
      "Pages scrapped: 47\n",
      "Pages scrapped: 48\n",
      "Pages scrapped: 49\n",
      "Pages scrapped: 50\n",
      "Pages scrapped: 51\n",
      "Pages scrapped: 52\n",
      "Pages scrapped: 53\n",
      "Pages scrapped: 54\n",
      "Pages scrapped: 55\n",
      "Pages scrapped: 56\n",
      "Pages scrapped: 57\n",
      "Pages scrapped: 58\n",
      "Pages scrapped: 59\n",
      "Pages scrapped: 60\n",
      "Pages scrapped: 61\n",
      "Pages scrapped: 62\n",
      "Pages scrapped: 63\n",
      "Pages scrapped: 64\n",
      "Pages scrapped: 65\n",
      "Pages scrapped: 66\n",
      "Pages scrapped: 67\n",
      "Pages scrapped: 68\n",
      "Pages scrapped: 69\n",
      "Pages scrapped: 70\n",
      "Pages scrapped: 71\n",
      "Pages scrapped: 72\n",
      "Pages scrapped: 73\n",
      "Pages scrapped: 74\n",
      "Pages scrapped: 75\n",
      "Pages scrapped: 76\n",
      "Pages scrapped: 77\n",
      "Pages scrapped: 78\n",
      "Pages scrapped: 79\n",
      "Pages scrapped: 80\n",
      "Pages scrapped: 81\n",
      "Pages scrapped: 82\n",
      "Pages scrapped: 83\n",
      "Pages scrapped: 84\n",
      "Pages scrapped: 85\n",
      "Pages scrapped: 86\n",
      "Pages scrapped: 87\n",
      "Pages scrapped: 88\n",
      "Pages scrapped: 89\n",
      "Pages scrapped: 90\n",
      "Pages scrapped: 91\n",
      "Pages scrapped: 92\n",
      "Pages scrapped: 93\n",
      "Pages scrapped: 94\n",
      "Pages scrapped: 95\n",
      "Pages scrapped: 96\n",
      "Pages scrapped: 97\n",
      "Completed\n"
     ]
    }
   ],
   "source": [
    "i = 0\n",
    "while True:\n",
    "    table_elements = driver.find_elements_by_xpath(\"//*[@id='loaninfotr']\")\n",
    "    for element in table_elements:\n",
    "        word_list = element.text.split()\n",
    "        word_list[3] = word_list[3].replace('%','')\n",
    "        word_list[-1] = word_list[-1].replace('%','')\n",
    "        word_list[1] = word_list[1] + word_list[2]\n",
    "        word_list.pop(2), word_list.pop(5)\n",
    "        array = np.array(word_list)\n",
    "        word_list_df = pd.DataFrame(array.reshape(1,-1), columns = df.columns)\n",
    "        df = df.append(word_list_df, ignore_index=True)\n",
    "\n",
    "    try:\n",
    "        next_link = driver.find_elements_by_xpath(\"//*[@id='bot_next_page']\")\n",
    "        next_link[-1].click()\n",
    "        i += 1\n",
    "        print ('Pages scrapped:', i)\n",
    "        time.sleep(2)\n",
    "\n",
    "    except (NoSuchElementException, StaleElementReferenceException, ElementClickInterceptedException):\n",
    "        i += 1\n",
    "        print ('Pages scrapped:', i)\n",
    "        print ('Completed')\n",
    "        break\n",
    "\n",
    "driver.quit()"
   ]
  },
  {
   "cell_type": "code",
   "execution_count": 6,
   "metadata": {},
   "outputs": [
    {
     "data": {
      "text/plain": [
       "True"
      ]
     },
     "execution_count": 6,
     "metadata": {},
     "output_type": "execute_result"
    }
   ],
   "source": [
    "df.shape[0] == df.Note_ID.nunique()"
   ]
  },
  {
   "cell_type": "code",
   "execution_count": 7,
   "metadata": {},
   "outputs": [],
   "source": [
    "df.to_csv('Latest_Scrapped_P2P_Notes.csv')"
   ]
  },
  {
   "cell_type": "code",
   "execution_count": 8,
   "metadata": {},
   "outputs": [
    {
     "data": {
      "text/html": [
       "<div>\n",
       "<style scoped>\n",
       "    .dataframe tbody tr th:only-of-type {\n",
       "        vertical-align: middle;\n",
       "    }\n",
       "\n",
       "    .dataframe tbody tr th {\n",
       "        vertical-align: top;\n",
       "    }\n",
       "\n",
       "    .dataframe thead th {\n",
       "        text-align: right;\n",
       "    }\n",
       "</style>\n",
       "<table border=\"1\" class=\"dataframe\">\n",
       "  <thead>\n",
       "    <tr style=\"text-align: right;\">\n",
       "      <th></th>\n",
       "      <th>Note_ID</th>\n",
       "      <th>Grade</th>\n",
       "      <th>Rate_%</th>\n",
       "      <th>Effective_Rate_%</th>\n",
       "      <th>Term</th>\n",
       "      <th>PD_%</th>\n",
       "      <th>Funding</th>\n",
       "      <th>Funded_%</th>\n",
       "    </tr>\n",
       "  </thead>\n",
       "  <tbody>\n",
       "    <tr>\n",
       "      <th>0</th>\n",
       "      <td>1111</td>\n",
       "      <td>D7</td>\n",
       "      <td>10.73</td>\n",
       "      <td>19.13</td>\n",
       "      <td>36</td>\n",
       "      <td>7.14</td>\n",
       "      <td>100,000.00</td>\n",
       "      <td>100.00</td>\n",
       "    </tr>\n",
       "    <tr>\n",
       "      <th>1</th>\n",
       "      <td>1110</td>\n",
       "      <td>A1</td>\n",
       "      <td>9.78</td>\n",
       "      <td>17.55</td>\n",
       "      <td>36</td>\n",
       "      <td>2.49</td>\n",
       "      <td>70,000.00</td>\n",
       "      <td>100.00</td>\n",
       "    </tr>\n",
       "    <tr>\n",
       "      <th>2</th>\n",
       "      <td>1109</td>\n",
       "      <td>A1</td>\n",
       "      <td>9.78</td>\n",
       "      <td>17.55</td>\n",
       "      <td>36</td>\n",
       "      <td>2.03</td>\n",
       "      <td>70,000.00</td>\n",
       "      <td>100.00</td>\n",
       "    </tr>\n",
       "    <tr>\n",
       "      <th>3</th>\n",
       "      <td>1108</td>\n",
       "      <td>D7</td>\n",
       "      <td>11.43</td>\n",
       "      <td>20.27</td>\n",
       "      <td>36</td>\n",
       "      <td>6.18</td>\n",
       "      <td>100,000.00</td>\n",
       "      <td>100.00</td>\n",
       "    </tr>\n",
       "    <tr>\n",
       "      <th>4</th>\n",
       "      <td>1107</td>\n",
       "      <td>D7</td>\n",
       "      <td>11.43</td>\n",
       "      <td>20.27</td>\n",
       "      <td>36</td>\n",
       "      <td>8.42</td>\n",
       "      <td>70,000.00</td>\n",
       "      <td>100.00</td>\n",
       "    </tr>\n",
       "  </tbody>\n",
       "</table>\n",
       "</div>"
      ],
      "text/plain": [
       "  Note_ID Grade Rate_% Effective_Rate_% Term  PD_%     Funding Funded_%\n",
       "0    1111    D7  10.73            19.13   36  7.14  100,000.00   100.00\n",
       "1    1110    A1   9.78            17.55   36  2.49   70,000.00   100.00\n",
       "2    1109    A1   9.78            17.55   36  2.03   70,000.00   100.00\n",
       "3    1108    D7  11.43            20.27   36  6.18  100,000.00   100.00\n",
       "4    1107    D7  11.43            20.27   36  8.42   70,000.00   100.00"
      ]
     },
     "execution_count": 8,
     "metadata": {},
     "output_type": "execute_result"
    }
   ],
   "source": [
    "df.head()"
   ]
  },
  {
   "cell_type": "code",
   "execution_count": 9,
   "metadata": {},
   "outputs": [],
   "source": [
    "import matplotlib.pyplot as plt\n",
    "import seaborn as sns\n",
    "\n",
    "sns.set_style('darkgrid')"
   ]
  },
  {
   "cell_type": "code",
   "execution_count": 10,
   "metadata": {},
   "outputs": [],
   "source": [
    "df = pd.read_csv('Latest_Scrapped_P2P_Notes.csv', index_col=0)"
   ]
  },
  {
   "cell_type": "code",
   "execution_count": 11,
   "metadata": {},
   "outputs": [
    {
     "data": {
      "text/html": [
       "<div>\n",
       "<style scoped>\n",
       "    .dataframe tbody tr th:only-of-type {\n",
       "        vertical-align: middle;\n",
       "    }\n",
       "\n",
       "    .dataframe tbody tr th {\n",
       "        vertical-align: top;\n",
       "    }\n",
       "\n",
       "    .dataframe thead th {\n",
       "        text-align: right;\n",
       "    }\n",
       "</style>\n",
       "<table border=\"1\" class=\"dataframe\">\n",
       "  <thead>\n",
       "    <tr style=\"text-align: right;\">\n",
       "      <th></th>\n",
       "      <th>Note_ID</th>\n",
       "      <th>Grade</th>\n",
       "      <th>Rate_%</th>\n",
       "      <th>Effective_Rate_%</th>\n",
       "      <th>Term</th>\n",
       "      <th>PD_%</th>\n",
       "      <th>Funding</th>\n",
       "      <th>Funded_%</th>\n",
       "    </tr>\n",
       "  </thead>\n",
       "  <tbody>\n",
       "    <tr>\n",
       "      <th>0</th>\n",
       "      <td>1111</td>\n",
       "      <td>D7</td>\n",
       "      <td>10.73</td>\n",
       "      <td>19.13</td>\n",
       "      <td>36</td>\n",
       "      <td>7.14</td>\n",
       "      <td>100,000.00</td>\n",
       "      <td>100.0</td>\n",
       "    </tr>\n",
       "    <tr>\n",
       "      <th>1</th>\n",
       "      <td>1110</td>\n",
       "      <td>A1</td>\n",
       "      <td>9.78</td>\n",
       "      <td>17.55</td>\n",
       "      <td>36</td>\n",
       "      <td>2.49</td>\n",
       "      <td>70,000.00</td>\n",
       "      <td>100.0</td>\n",
       "    </tr>\n",
       "    <tr>\n",
       "      <th>2</th>\n",
       "      <td>1109</td>\n",
       "      <td>A1</td>\n",
       "      <td>9.78</td>\n",
       "      <td>17.55</td>\n",
       "      <td>36</td>\n",
       "      <td>2.03</td>\n",
       "      <td>70,000.00</td>\n",
       "      <td>100.0</td>\n",
       "    </tr>\n",
       "    <tr>\n",
       "      <th>3</th>\n",
       "      <td>1108</td>\n",
       "      <td>D7</td>\n",
       "      <td>11.43</td>\n",
       "      <td>20.27</td>\n",
       "      <td>36</td>\n",
       "      <td>6.18</td>\n",
       "      <td>100,000.00</td>\n",
       "      <td>100.0</td>\n",
       "    </tr>\n",
       "    <tr>\n",
       "      <th>4</th>\n",
       "      <td>1107</td>\n",
       "      <td>D7</td>\n",
       "      <td>11.43</td>\n",
       "      <td>20.27</td>\n",
       "      <td>36</td>\n",
       "      <td>8.42</td>\n",
       "      <td>70,000.00</td>\n",
       "      <td>100.0</td>\n",
       "    </tr>\n",
       "  </tbody>\n",
       "</table>\n",
       "</div>"
      ],
      "text/plain": [
       "   Note_ID Grade  Rate_%  Effective_Rate_%  Term  PD_%     Funding  Funded_%\n",
       "0     1111    D7   10.73             19.13    36  7.14  100,000.00     100.0\n",
       "1     1110    A1    9.78             17.55    36  2.49   70,000.00     100.0\n",
       "2     1109    A1    9.78             17.55    36  2.03   70,000.00     100.0\n",
       "3     1108    D7   11.43             20.27    36  6.18  100,000.00     100.0\n",
       "4     1107    D7   11.43             20.27    36  8.42   70,000.00     100.0"
      ]
     },
     "execution_count": 11,
     "metadata": {},
     "output_type": "execute_result"
    }
   ],
   "source": [
    "df.head()"
   ]
  },
  {
   "cell_type": "code",
   "execution_count": 12,
   "metadata": {},
   "outputs": [
    {
     "name": "stdout",
     "output_type": "stream",
     "text": [
      "<class 'pandas.core.frame.DataFrame'>\n",
      "Int64Index: 965 entries, 0 to 964\n",
      "Data columns (total 8 columns):\n",
      "Note_ID             965 non-null int64\n",
      "Grade               965 non-null object\n",
      "Rate_%              965 non-null float64\n",
      "Effective_Rate_%    965 non-null float64\n",
      "Term                965 non-null int64\n",
      "PD_%                965 non-null float64\n",
      "Funding             965 non-null object\n",
      "Funded_%            965 non-null float64\n",
      "dtypes: float64(4), int64(2), object(2)\n",
      "memory usage: 67.9+ KB\n"
     ]
    }
   ],
   "source": [
    "df.info()"
   ]
  },
  {
   "cell_type": "code",
   "execution_count": 13,
   "metadata": {},
   "outputs": [],
   "source": [
    "df.Funding = df.Funding.apply(lambda x: x.replace(\",\", ''))\n",
    "df.Funding = df.Funding.astype('float64')"
   ]
  },
  {
   "cell_type": "code",
   "execution_count": 14,
   "metadata": {},
   "outputs": [],
   "source": [
    "from sklearn.preprocessing import LabelEncoder\n",
    "\n",
    "le = LabelEncoder()\n",
    "df.Grade = le.fit_transform(df.Grade) + 1"
   ]
  },
  {
   "cell_type": "code",
   "execution_count": 15,
   "metadata": {},
   "outputs": [
    {
     "name": "stderr",
     "output_type": "stream",
     "text": [
      "/Users/weeliptan/anaconda3/envs/learn-env/lib/python3.6/site-packages/scipy/stats/stats.py:1713: FutureWarning: Using a non-tuple sequence for multidimensional indexing is deprecated; use `arr[tuple(seq)]` instead of `arr[seq]`. In the future this will be interpreted as an array index, `arr[np.array(seq)]`, which will result either in an error or a different result.\n",
      "  return np.add.reduce(sorted[indexer] * weights, axis=axis) / sumval\n"
     ]
    },
    {
     "data": {
      "image/png": "[encoded data removed]",
      "text/plain": [
       "<Figure size 360x360 with 1 Axes>"
      ]
     },
     "metadata": {
      "needs_background": "light"
     },
     "output_type": "display_data"
    },
    {
     "data": {
      "image/png": "[encoded data removed]",
      "text/plain": [
       "<Figure size 360x360 with 1 Axes>"
      ]
     },
     "metadata": {
      "needs_background": "light"
     },
     "output_type": "display_data"
    },
    {
     "data": {
      "image/png": "[encoded data removed]",
      "text/plain": [
       "<Figure size 360x360 with 1 Axes>"
      ]
     },
     "metadata": {
      "needs_background": "light"
     },
     "output_type": "display_data"
    },
    {
     "data": {
      "image/png": "[encoded data removed]",
      "text/plain": [
       "<Figure size 360x360 with 1 Axes>"
      ]
     },
     "metadata": {
      "needs_background": "light"
     },
     "output_type": "display_data"
    },
    {
     "data": {
      "image/png": "[encoded data removed]",
      "text/plain": [
       "<Figure size 360x360 with 1 Axes>"
      ]
     },
     "metadata": {
      "needs_background": "light"
     },
     "output_type": "display_data"
    }
   ],
   "source": [
    "for i in ['Grade', 'Term', 'PD_%', 'Funding', 'Effective_Rate_%']:\n",
    "    sns.lmplot(i, 'Rate_%', df)\n",
    "    plt.show()"
   ]
  },
  {
   "cell_type": "code",
   "execution_count": 16,
   "metadata": {},
   "outputs": [],
   "source": [
    "rows_to_drop = df[df['Funded_%'] < 100].index\n",
    "df.drop(rows_to_drop, axis = 0, inplace = True)"
   ]
  },
  {
   "cell_type": "code",
   "execution_count": 17,
   "metadata": {},
   "outputs": [],
   "source": [
    "X = df.drop(['Note_ID', 'Rate_%', 'Effective_Rate_%', 'Funded_%'], axis = 1)\n",
    "y = df['Rate_%']"
   ]
  },
  {
   "cell_type": "code",
   "execution_count": 18,
   "metadata": {},
   "outputs": [
    {
     "data": {
      "text/html": [
       "<div>\n",
       "<style scoped>\n",
       "    .dataframe tbody tr th:only-of-type {\n",
       "        vertical-align: middle;\n",
       "    }\n",
       "\n",
       "    .dataframe tbody tr th {\n",
       "        vertical-align: top;\n",
       "    }\n",
       "\n",
       "    .dataframe thead th {\n",
       "        text-align: right;\n",
       "    }\n",
       "</style>\n",
       "<table border=\"1\" class=\"dataframe\">\n",
       "  <thead>\n",
       "    <tr style=\"text-align: right;\">\n",
       "      <th></th>\n",
       "      <th>Grade</th>\n",
       "      <th>Term</th>\n",
       "      <th>PD_%</th>\n",
       "      <th>Funding</th>\n",
       "    </tr>\n",
       "  </thead>\n",
       "  <tbody>\n",
       "    <tr>\n",
       "      <th>Grade</th>\n",
       "      <td>1.000000</td>\n",
       "      <td>0.015425</td>\n",
       "      <td>0.893979</td>\n",
       "      <td>0.049622</td>\n",
       "    </tr>\n",
       "    <tr>\n",
       "      <th>Term</th>\n",
       "      <td>0.015425</td>\n",
       "      <td>1.000000</td>\n",
       "      <td>0.010267</td>\n",
       "      <td>0.086118</td>\n",
       "    </tr>\n",
       "    <tr>\n",
       "      <th>PD_%</th>\n",
       "      <td>0.893979</td>\n",
       "      <td>0.010267</td>\n",
       "      <td>1.000000</td>\n",
       "      <td>0.012619</td>\n",
       "    </tr>\n",
       "    <tr>\n",
       "      <th>Funding</th>\n",
       "      <td>0.049622</td>\n",
       "      <td>0.086118</td>\n",
       "      <td>0.012619</td>\n",
       "      <td>1.000000</td>\n",
       "    </tr>\n",
       "  </tbody>\n",
       "</table>\n",
       "</div>"
      ],
      "text/plain": [
       "            Grade      Term      PD_%   Funding\n",
       "Grade    1.000000  0.015425  0.893979  0.049622\n",
       "Term     0.015425  1.000000  0.010267  0.086118\n",
       "PD_%     0.893979  0.010267  1.000000  0.012619\n",
       "Funding  0.049622  0.086118  0.012619  1.000000"
      ]
     },
     "execution_count": 18,
     "metadata": {},
     "output_type": "execute_result"
    }
   ],
   "source": [
    "X.corr()"
   ]
  },
  {
   "cell_type": "code",
   "execution_count": 19,
   "metadata": {},
   "outputs": [],
   "source": [
    "X = X.drop('Grade', axis = 1)"
   ]
  },
  {
   "cell_type": "markdown",
   "metadata": {},
   "source": [
    "# Basic Regression Model"
   ]
  },
  {
   "cell_type": "code",
   "execution_count": 20,
   "metadata": {},
   "outputs": [],
   "source": [
    "from statsmodels.regression.linear_model import OLS\n",
    "from statsmodels.tools import add_constant"
   ]
  },
  {
   "cell_type": "code",
   "execution_count": 21,
   "metadata": {},
   "outputs": [],
   "source": [
    "final = OLS(y, add_constant(X)).fit()"
   ]
  },
  {
   "cell_type": "code",
   "execution_count": 22,
   "metadata": {},
   "outputs": [
    {
     "data": {
      "text/html": [
       "<table class=\"simpletable\">\n",
       "<caption>OLS Regression Results</caption>\n",
       "<tr>\n",
       "  <th>Dep. Variable:</th>         <td>Rate_%</td>      <th>  R-squared:         </th> <td>   0.566</td> \n",
       "</tr>\n",
       "<tr>\n",
       "  <th>Model:</th>                   <td>OLS</td>       <th>  Adj. R-squared:    </th> <td>   0.564</td> \n",
       "</tr>\n",
       "<tr>\n",
       "  <th>Method:</th>             <td>Least Squares</td>  <th>  F-statistic:       </th> <td>   362.7</td> \n",
       "</tr>\n",
       "<tr>\n",
       "  <th>Date:</th>             <td>Sun, 09 Feb 2020</td> <th>  Prob (F-statistic):</th> <td>9.46e-151</td>\n",
       "</tr>\n",
       "<tr>\n",
       "  <th>Time:</th>                 <td>15:49:53</td>     <th>  Log-Likelihood:    </th> <td> -1106.8</td> \n",
       "</tr>\n",
       "<tr>\n",
       "  <th>No. Observations:</th>      <td>   839</td>      <th>  AIC:               </th> <td>   2222.</td> \n",
       "</tr>\n",
       "<tr>\n",
       "  <th>Df Residuals:</th>          <td>   835</td>      <th>  BIC:               </th> <td>   2241.</td> \n",
       "</tr>\n",
       "<tr>\n",
       "  <th>Df Model:</th>              <td>     3</td>      <th>                     </th>     <td> </td>    \n",
       "</tr>\n",
       "<tr>\n",
       "  <th>Covariance Type:</th>      <td>nonrobust</td>    <th>                     </th>     <td> </td>    \n",
       "</tr>\n",
       "</table>\n",
       "<table class=\"simpletable\">\n",
       "<tr>\n",
       "     <td></td>        <th>coef</th>     <th>std err</th>      <th>t</th>      <th>P>|t|</th>  <th>[0.025</th>    <th>0.975]</th>  \n",
       "</tr>\n",
       "<tr>\n",
       "  <th>const</th>   <td>    8.9273</td> <td>    0.179</td> <td>   49.799</td> <td> 0.000</td> <td>    8.575</td> <td>    9.279</td>\n",
       "</tr>\n",
       "<tr>\n",
       "  <th>Term</th>    <td>    0.0435</td> <td>    0.005</td> <td>    9.233</td> <td> 0.000</td> <td>    0.034</td> <td>    0.053</td>\n",
       "</tr>\n",
       "<tr>\n",
       "  <th>PD_%</th>    <td>    0.3073</td> <td>    0.011</td> <td>   28.408</td> <td> 0.000</td> <td>    0.286</td> <td>    0.329</td>\n",
       "</tr>\n",
       "<tr>\n",
       "  <th>Funding</th> <td>-1.613e-05</td> <td> 1.08e-06</td> <td>  -14.916</td> <td> 0.000</td> <td>-1.82e-05</td> <td> -1.4e-05</td>\n",
       "</tr>\n",
       "</table>\n",
       "<table class=\"simpletable\">\n",
       "<tr>\n",
       "  <th>Omnibus:</th>       <td>38.623</td> <th>  Durbin-Watson:     </th> <td>   1.378</td>\n",
       "</tr>\n",
       "<tr>\n",
       "  <th>Prob(Omnibus):</th> <td> 0.000</td> <th>  Jarque-Bera (JB):  </th> <td>  42.904</td>\n",
       "</tr>\n",
       "<tr>\n",
       "  <th>Skew:</th>          <td>-0.526</td> <th>  Prob(JB):          </th> <td>4.83e-10</td>\n",
       "</tr>\n",
       "<tr>\n",
       "  <th>Kurtosis:</th>      <td> 3.346</td> <th>  Cond. No.          </th> <td>4.66e+05</td>\n",
       "</tr>\n",
       "</table><br/><br/>Warnings:<br/>[1] Standard Errors assume that the covariance matrix of the errors is correctly specified.<br/>[2] The condition number is large, 4.66e+05. This might indicate that there are<br/>strong multicollinearity or other numerical problems."
      ],
      "text/plain": [
       "<class 'statsmodels.iolib.summary.Summary'>\n",
       "\"\"\"\n",
       "                            OLS Regression Results                            \n",
       "==============================================================================\n",
       "Dep. Variable:                 Rate_%   R-squared:                       0.566\n",
       "Model:                            OLS   Adj. R-squared:                  0.564\n",
       "Method:                 Least Squares   F-statistic:                     362.7\n",
       "Date:                Sun, 09 Feb 2020   Prob (F-statistic):          9.46e-151\n",
       "Time:                        15:49:53   Log-Likelihood:                -1106.8\n",
       "No. Observations:                 839   AIC:                             2222.\n",
       "Df Residuals:                     835   BIC:                             2241.\n",
       "Df Model:                           3                                         \n",
       "Covariance Type:            nonrobust                                         \n",
       "==============================================================================\n",
       "                 coef    std err          t      P>|t|      [0.025      0.975]\n",
       "------------------------------------------------------------------------------\n",
       "const          8.9273      0.179     49.799      0.000       8.575       9.279\n",
       "Term           0.0435      0.005      9.233      0.000       0.034       0.053\n",
       "PD_%           0.3073      0.011     28.408      0.000       0.286       0.329\n",
       "Funding    -1.613e-05   1.08e-06    -14.916      0.000   -1.82e-05    -1.4e-05\n",
       "==============================================================================\n",
       "Omnibus:                       38.623   Durbin-Watson:                   1.378\n",
       "Prob(Omnibus):                  0.000   Jarque-Bera (JB):               42.904\n",
       "Skew:                          -0.526   Prob(JB):                     4.83e-10\n",
       "Kurtosis:                       3.346   Cond. No.                     4.66e+05\n",
       "==============================================================================\n",
       "\n",
       "Warnings:\n",
       "[1] Standard Errors assume that the covariance matrix of the errors is correctly specified.\n",
       "[2] The condition number is large, 4.66e+05. This might indicate that there are\n",
       "strong multicollinearity or other numerical problems.\n",
       "\"\"\""
      ]
     },
     "execution_count": 22,
     "metadata": {},
     "output_type": "execute_result"
    }
   ],
   "source": [
    "final.summary()"
   ]
  },
  {
   "cell_type": "code",
   "execution_count": 23,
   "metadata": {},
   "outputs": [],
   "source": [
    "def predict(x):\n",
    "    subset = x[['Term', 'PD_%', 'Funding']].values\n",
    "    add_constant = np.append([1], subset)\n",
    "    prediction = final.predict(add_constant)\n",
    "    return round(prediction[0], 2)\n",
    "\n",
    "def invest_decision(x):\n",
    "    if x['Delta_%'] >= 1.00:\n",
    "        return 'Yes'\n",
    "    else:\n",
    "        return 'No'"
   ]
  },
  {
   "cell_type": "code",
   "execution_count": 24,
   "metadata": {},
   "outputs": [],
   "source": [
    "df['Predicted_Rate_%'] = df.apply(predict, axis = 1)\n",
    "df['Delta_%'] = df['Rate_%'] - df['Predicted_Rate_%']\n",
    "df['Invest'] = df.apply(invest_decision, axis = 1)"
   ]
  },
  {
   "cell_type": "code",
   "execution_count": 25,
   "metadata": {},
   "outputs": [
    {
     "data": {
      "text/html": [
       "<div>\n",
       "<style scoped>\n",
       "    .dataframe tbody tr th:only-of-type {\n",
       "        vertical-align: middle;\n",
       "    }\n",
       "\n",
       "    .dataframe tbody tr th {\n",
       "        vertical-align: top;\n",
       "    }\n",
       "\n",
       "    .dataframe thead th {\n",
       "        text-align: right;\n",
       "    }\n",
       "</style>\n",
       "<table border=\"1\" class=\"dataframe\">\n",
       "  <thead>\n",
       "    <tr style=\"text-align: right;\">\n",
       "      <th></th>\n",
       "      <th>Note_ID</th>\n",
       "      <th>Grade</th>\n",
       "      <th>Rate_%</th>\n",
       "      <th>Effective_Rate_%</th>\n",
       "      <th>Term</th>\n",
       "      <th>PD_%</th>\n",
       "      <th>Funding</th>\n",
       "      <th>Funded_%</th>\n",
       "      <th>Predicted_Rate_%</th>\n",
       "      <th>Delta_%</th>\n",
       "      <th>Invest</th>\n",
       "    </tr>\n",
       "  </thead>\n",
       "  <tbody>\n",
       "    <tr>\n",
       "      <th>0</th>\n",
       "      <td>1111</td>\n",
       "      <td>7</td>\n",
       "      <td>10.73</td>\n",
       "      <td>19.13</td>\n",
       "      <td>36</td>\n",
       "      <td>7.14</td>\n",
       "      <td>100000.0</td>\n",
       "      <td>100.0</td>\n",
       "      <td>11.08</td>\n",
       "      <td>-0.35</td>\n",
       "      <td>No</td>\n",
       "    </tr>\n",
       "    <tr>\n",
       "      <th>1</th>\n",
       "      <td>1110</td>\n",
       "      <td>1</td>\n",
       "      <td>9.78</td>\n",
       "      <td>17.55</td>\n",
       "      <td>36</td>\n",
       "      <td>2.49</td>\n",
       "      <td>70000.0</td>\n",
       "      <td>100.0</td>\n",
       "      <td>10.13</td>\n",
       "      <td>-0.35</td>\n",
       "      <td>No</td>\n",
       "    </tr>\n",
       "    <tr>\n",
       "      <th>2</th>\n",
       "      <td>1109</td>\n",
       "      <td>1</td>\n",
       "      <td>9.78</td>\n",
       "      <td>17.55</td>\n",
       "      <td>36</td>\n",
       "      <td>2.03</td>\n",
       "      <td>70000.0</td>\n",
       "      <td>100.0</td>\n",
       "      <td>9.99</td>\n",
       "      <td>-0.21</td>\n",
       "      <td>No</td>\n",
       "    </tr>\n",
       "    <tr>\n",
       "      <th>3</th>\n",
       "      <td>1108</td>\n",
       "      <td>7</td>\n",
       "      <td>11.43</td>\n",
       "      <td>20.27</td>\n",
       "      <td>36</td>\n",
       "      <td>6.18</td>\n",
       "      <td>100000.0</td>\n",
       "      <td>100.0</td>\n",
       "      <td>10.78</td>\n",
       "      <td>0.65</td>\n",
       "      <td>No</td>\n",
       "    </tr>\n",
       "    <tr>\n",
       "      <th>4</th>\n",
       "      <td>1107</td>\n",
       "      <td>7</td>\n",
       "      <td>11.43</td>\n",
       "      <td>20.27</td>\n",
       "      <td>36</td>\n",
       "      <td>8.42</td>\n",
       "      <td>70000.0</td>\n",
       "      <td>100.0</td>\n",
       "      <td>11.95</td>\n",
       "      <td>-0.52</td>\n",
       "      <td>No</td>\n",
       "    </tr>\n",
       "  </tbody>\n",
       "</table>\n",
       "</div>"
      ],
      "text/plain": [
       "   Note_ID  Grade  Rate_%  Effective_Rate_%  Term  PD_%   Funding  Funded_%  \\\n",
       "0     1111      7   10.73             19.13    36  7.14  100000.0     100.0   \n",
       "1     1110      1    9.78             17.55    36  2.49   70000.0     100.0   \n",
       "2     1109      1    9.78             17.55    36  2.03   70000.0     100.0   \n",
       "3     1108      7   11.43             20.27    36  6.18  100000.0     100.0   \n",
       "4     1107      7   11.43             20.27    36  8.42   70000.0     100.0   \n",
       "\n",
       "   Predicted_Rate_%  Delta_% Invest  \n",
       "0             11.08    -0.35     No  \n",
       "1             10.13    -0.35     No  \n",
       "2              9.99    -0.21     No  \n",
       "3             10.78     0.65     No  \n",
       "4             11.95    -0.52     No  "
      ]
     },
     "execution_count": 25,
     "metadata": {},
     "output_type": "execute_result"
    }
   ],
   "source": [
    "df.head()"
   ]
  },
  {
   "cell_type": "code",
   "execution_count": 26,
   "metadata": {},
   "outputs": [
    {
     "data": {
      "text/html": [
       "<div>\n",
       "<style scoped>\n",
       "    .dataframe tbody tr th:only-of-type {\n",
       "        vertical-align: middle;\n",
       "    }\n",
       "\n",
       "    .dataframe tbody tr th {\n",
       "        vertical-align: top;\n",
       "    }\n",
       "\n",
       "    .dataframe thead th {\n",
       "        text-align: right;\n",
       "    }\n",
       "</style>\n",
       "<table border=\"1\" class=\"dataframe\">\n",
       "  <thead>\n",
       "    <tr style=\"text-align: right;\">\n",
       "      <th></th>\n",
       "      <th>Note_ID</th>\n",
       "      <th>Grade</th>\n",
       "      <th>Rate_%</th>\n",
       "      <th>Effective_Rate_%</th>\n",
       "      <th>Term</th>\n",
       "      <th>PD_%</th>\n",
       "      <th>Funding</th>\n",
       "      <th>Funded_%</th>\n",
       "      <th>Predicted_Rate_%</th>\n",
       "      <th>Delta_%</th>\n",
       "    </tr>\n",
       "  </thead>\n",
       "  <tbody>\n",
       "    <tr>\n",
       "      <th>0</th>\n",
       "      <td>1097</td>\n",
       "      <td>7</td>\n",
       "      <td>12.19</td>\n",
       "      <td>21.51</td>\n",
       "      <td>36</td>\n",
       "      <td>7.41</td>\n",
       "      <td>100000.0</td>\n",
       "      <td>100.0</td>\n",
       "      <td>11.16</td>\n",
       "      <td>1.03</td>\n",
       "    </tr>\n",
       "    <tr>\n",
       "      <th>1</th>\n",
       "      <td>1096</td>\n",
       "      <td>7</td>\n",
       "      <td>12.19</td>\n",
       "      <td>21.51</td>\n",
       "      <td>36</td>\n",
       "      <td>6.95</td>\n",
       "      <td>100000.0</td>\n",
       "      <td>100.0</td>\n",
       "      <td>11.02</td>\n",
       "      <td>1.17</td>\n",
       "    </tr>\n",
       "    <tr>\n",
       "      <th>2</th>\n",
       "      <td>1093</td>\n",
       "      <td>8</td>\n",
       "      <td>12.78</td>\n",
       "      <td>22.46</td>\n",
       "      <td>36</td>\n",
       "      <td>9.25</td>\n",
       "      <td>100000.0</td>\n",
       "      <td>100.0</td>\n",
       "      <td>11.72</td>\n",
       "      <td>1.06</td>\n",
       "    </tr>\n",
       "    <tr>\n",
       "      <th>3</th>\n",
       "      <td>1086</td>\n",
       "      <td>6</td>\n",
       "      <td>12.08</td>\n",
       "      <td>21.33</td>\n",
       "      <td>36</td>\n",
       "      <td>5.01</td>\n",
       "      <td>70000.0</td>\n",
       "      <td>100.0</td>\n",
       "      <td>10.91</td>\n",
       "      <td>1.17</td>\n",
       "    </tr>\n",
       "    <tr>\n",
       "      <th>4</th>\n",
       "      <td>1075</td>\n",
       "      <td>7</td>\n",
       "      <td>12.69</td>\n",
       "      <td>22.31</td>\n",
       "      <td>36</td>\n",
       "      <td>7.41</td>\n",
       "      <td>70000.0</td>\n",
       "      <td>100.0</td>\n",
       "      <td>11.64</td>\n",
       "      <td>1.05</td>\n",
       "    </tr>\n",
       "  </tbody>\n",
       "</table>\n",
       "</div>"
      ],
      "text/plain": [
       "   Note_ID  Grade  Rate_%  Effective_Rate_%  Term  PD_%   Funding  Funded_%  \\\n",
       "0     1097      7   12.19             21.51    36  7.41  100000.0     100.0   \n",
       "1     1096      7   12.19             21.51    36  6.95  100000.0     100.0   \n",
       "2     1093      8   12.78             22.46    36  9.25  100000.0     100.0   \n",
       "3     1086      6   12.08             21.33    36  5.01   70000.0     100.0   \n",
       "4     1075      7   12.69             22.31    36  7.41   70000.0     100.0   \n",
       "\n",
       "   Predicted_Rate_%  Delta_%  \n",
       "0             11.16     1.03  \n",
       "1             11.02     1.17  \n",
       "2             11.72     1.06  \n",
       "3             10.91     1.17  \n",
       "4             11.64     1.05  "
      ]
     },
     "execution_count": 26,
     "metadata": {},
     "output_type": "execute_result"
    }
   ],
   "source": [
    "yes_invest = df[df.Invest == 'Yes'].drop('Invest', axis = 1).reset_index(drop = True)\n",
    "yes_invest.head()"
   ]
  },
  {
   "cell_type": "markdown",
   "metadata": {},
   "source": [
    "# Construct Recommendation Engine using Cosine Similarity"
   ]
  },
  {
   "cell_type": "code",
   "execution_count": 27,
   "metadata": {},
   "outputs": [],
   "source": [
    "from sklearn.preprocessing import MinMaxScaler"
   ]
  },
  {
   "cell_type": "code",
   "execution_count": 28,
   "metadata": {},
   "outputs": [],
   "source": [
    "mm = MinMaxScaler()\n",
    "yes_invest_scaled = mm.fit_transform(yes_invest.iloc[:, 1:])"
   ]
  },
  {
   "cell_type": "code",
   "execution_count": 29,
   "metadata": {},
   "outputs": [],
   "source": [
    "test = pd.concat([yes_invest.Note_ID, pd.DataFrame(yes_invest_scaled, columns = yes_invest.columns[1:])], axis = 1)"
   ]
  },
  {
   "cell_type": "code",
   "execution_count": 30,
   "metadata": {},
   "outputs": [
    {
     "data": {
      "text/plain": [
       "array([5.000e+00, 1.043e+01, 1.863e+01, 3.600e+01, 3.850e+00, 1.500e+05,\n",
       "       1.000e+02, 9.260e+00, 1.170e+00])"
      ]
     },
     "execution_count": 30,
     "metadata": {},
     "output_type": "execute_result"
    }
   ],
   "source": [
    "chosen_id = 742\n",
    "chosen_array = df[df.Note_ID == chosen_id].iloc[:, 1:10].values[0]\n",
    "chosen_array"
   ]
  },
  {
   "cell_type": "code",
   "execution_count": 31,
   "metadata": {},
   "outputs": [],
   "source": [
    "def cosine(x):\n",
    "    b = x[['Grade', 'Rate_%', 'Effective_Rate_%', 'Term', 'PD_%','Funding', 'Funded_%', 'Predicted_Rate_%', 'Delta_%']].values\n",
    "    \n",
    "    dot = np.dot(chosen_array, b)\n",
    "    norm_chosen = np.linalg.norm(chosen_array)\n",
    "    norm_b = np.linalg.norm(b)\n",
    "    cos = dot / (norm_chosen * norm_b)\n",
    "    \n",
    "    return cos"
   ]
  },
  {
   "cell_type": "code",
   "execution_count": 32,
   "metadata": {},
   "outputs": [],
   "source": [
    "test['Cosine'] = test.apply(cosine, axis = 1)"
   ]
  },
  {
   "cell_type": "code",
   "execution_count": 33,
   "metadata": {},
   "outputs": [
    {
     "data": {
      "text/plain": [
       "array([388, 698, 946, 742, 151])"
      ]
     },
     "execution_count": 33,
     "metadata": {},
     "output_type": "execute_result"
    }
   ],
   "source": [
    "recommendation_id = test.sort_values(by = 'Cosine', ascending = False)[1:6]['Note_ID'].values\n",
    "recommendation_id"
   ]
  },
  {
   "cell_type": "code",
   "execution_count": null,
   "metadata": {},
   "outputs": [],
   "source": []
  },
  {
   "cell_type": "code",
   "execution_count": 34,
   "metadata": {},
   "outputs": [
    {
     "data": {
      "text/html": [
       "<div>\n",
       "<style scoped>\n",
       "    .dataframe tbody tr th:only-of-type {\n",
       "        vertical-align: middle;\n",
       "    }\n",
       "\n",
       "    .dataframe tbody tr th {\n",
       "        vertical-align: top;\n",
       "    }\n",
       "\n",
       "    .dataframe thead th {\n",
       "        text-align: right;\n",
       "    }\n",
       "</style>\n",
       "<table border=\"1\" class=\"dataframe\">\n",
       "  <thead>\n",
       "    <tr style=\"text-align: right;\">\n",
       "      <th></th>\n",
       "      <th>Note_ID</th>\n",
       "      <th>Grade</th>\n",
       "      <th>Rate_%</th>\n",
       "      <th>Effective_Rate_%</th>\n",
       "      <th>Term</th>\n",
       "      <th>PD_%</th>\n",
       "      <th>Funding</th>\n",
       "      <th>Funded_%</th>\n",
       "      <th>Predicted_Rate_%</th>\n",
       "      <th>Delta_%</th>\n",
       "      <th>Invest</th>\n",
       "    </tr>\n",
       "  </thead>\n",
       "  <tbody>\n",
       "    <tr>\n",
       "      <th>139</th>\n",
       "      <td>946</td>\n",
       "      <td>5</td>\n",
       "      <td>10.43</td>\n",
       "      <td>18.90</td>\n",
       "      <td>24</td>\n",
       "      <td>3.72</td>\n",
       "      <td>150000.0</td>\n",
       "      <td>100.0</td>\n",
       "      <td>8.70</td>\n",
       "      <td>1.73</td>\n",
       "      <td>Yes</td>\n",
       "    </tr>\n",
       "    <tr>\n",
       "      <th>297</th>\n",
       "      <td>742</td>\n",
       "      <td>5</td>\n",
       "      <td>10.43</td>\n",
       "      <td>18.63</td>\n",
       "      <td>36</td>\n",
       "      <td>3.85</td>\n",
       "      <td>150000.0</td>\n",
       "      <td>100.0</td>\n",
       "      <td>9.26</td>\n",
       "      <td>1.17</td>\n",
       "      <td>Yes</td>\n",
       "    </tr>\n",
       "    <tr>\n",
       "      <th>334</th>\n",
       "      <td>698</td>\n",
       "      <td>6</td>\n",
       "      <td>10.23</td>\n",
       "      <td>18.55</td>\n",
       "      <td>24</td>\n",
       "      <td>5.35</td>\n",
       "      <td>150000.0</td>\n",
       "      <td>100.0</td>\n",
       "      <td>9.20</td>\n",
       "      <td>1.03</td>\n",
       "      <td>Yes</td>\n",
       "    </tr>\n",
       "    <tr>\n",
       "      <th>580</th>\n",
       "      <td>388</td>\n",
       "      <td>6</td>\n",
       "      <td>10.23</td>\n",
       "      <td>18.30</td>\n",
       "      <td>36</td>\n",
       "      <td>4.99</td>\n",
       "      <td>200000.0</td>\n",
       "      <td>100.0</td>\n",
       "      <td>8.80</td>\n",
       "      <td>1.43</td>\n",
       "      <td>Yes</td>\n",
       "    </tr>\n",
       "    <tr>\n",
       "      <th>814</th>\n",
       "      <td>151</td>\n",
       "      <td>5</td>\n",
       "      <td>10.79</td>\n",
       "      <td>19.51</td>\n",
       "      <td>24</td>\n",
       "      <td>3.85</td>\n",
       "      <td>100000.0</td>\n",
       "      <td>100.0</td>\n",
       "      <td>9.54</td>\n",
       "      <td>1.25</td>\n",
       "      <td>Yes</td>\n",
       "    </tr>\n",
       "  </tbody>\n",
       "</table>\n",
       "</div>"
      ],
      "text/plain": [
       "     Note_ID  Grade  Rate_%  Effective_Rate_%  Term  PD_%   Funding  Funded_%  \\\n",
       "139      946      5   10.43             18.90    24  3.72  150000.0     100.0   \n",
       "297      742      5   10.43             18.63    36  3.85  150000.0     100.0   \n",
       "334      698      6   10.23             18.55    24  5.35  150000.0     100.0   \n",
       "580      388      6   10.23             18.30    36  4.99  200000.0     100.0   \n",
       "814      151      5   10.79             19.51    24  3.85  100000.0     100.0   \n",
       "\n",
       "     Predicted_Rate_%  Delta_% Invest  \n",
       "139              8.70     1.73    Yes  \n",
       "297              9.26     1.17    Yes  \n",
       "334              9.20     1.03    Yes  \n",
       "580              8.80     1.43    Yes  \n",
       "814              9.54     1.25    Yes  "
      ]
     },
     "execution_count": 34,
     "metadata": {},
     "output_type": "execute_result"
    }
   ],
   "source": [
    "df[df.Note_ID.isin(recommendation_id)]"
   ]
  }
 ],
 "metadata": {
  "kernelspec": {
   "display_name": "Python 3",
   "language": "python",
   "name": "python3"
  },
  "language_info": {
   "codemirror_mode": {
    "name": "ipython",
    "version": 3
   },
   "file_extension": ".py",
   "mimetype": "text/x-python",
   "name": "python",
   "nbconvert_exporter": "python",
   "pygments_lexer": "ipython3",
   "version": "3.6.6"
  }
 },
 "nbformat": 4,
 "nbformat_minor": 2
}
