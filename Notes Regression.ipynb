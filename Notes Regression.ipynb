{
 "cells": [
  {
   "cell_type": "code",
   "execution_count": 52,
   "metadata": {},
   "outputs": [],
   "source": [
    "import pandas as pd\n",
    "import numpy as np\n",
    "import matplotlib.pyplot as plt\n",
    "import seaborn as sns\n",
    "\n",
    "sns.set_style('darkgrid')"
   ]
  },
  {
   "cell_type": "code",
   "execution_count": 50,
   "metadata": {},
   "outputs": [],
   "source": [
    "df = pd.read_csv('Latest_Scrapped_P2P_Notes.csv', index_col=0)"
   ]
  },
  {
   "cell_type": "code",
   "execution_count": 51,
   "metadata": {},
   "outputs": [
    {
     "data": {
      "text/html": [
       "<div>\n",
       "<style scoped>\n",
       "    .dataframe tbody tr th:only-of-type {\n",
       "        vertical-align: middle;\n",
       "    }\n",
       "\n",
       "    .dataframe tbody tr th {\n",
       "        vertical-align: top;\n",
       "    }\n",
       "\n",
       "    .dataframe thead th {\n",
       "        text-align: right;\n",
       "    }\n",
       "</style>\n",
       "<table border=\"1\" class=\"dataframe\">\n",
       "  <thead>\n",
       "    <tr style=\"text-align: right;\">\n",
       "      <th></th>\n",
       "      <th>Note_ID</th>\n",
       "      <th>Grade</th>\n",
       "      <th>Rate_%</th>\n",
       "      <th>Effective_Rate_%</th>\n",
       "      <th>Term</th>\n",
       "      <th>PD_%</th>\n",
       "      <th>Funding</th>\n",
       "      <th>Funded_%</th>\n",
       "    </tr>\n",
       "  </thead>\n",
       "  <tbody>\n",
       "    <tr>\n",
       "      <th>0</th>\n",
       "      <td>1101</td>\n",
       "      <td>D8</td>\n",
       "      <td>13.28</td>\n",
       "      <td>23.26</td>\n",
       "      <td>36</td>\n",
       "      <td>10.48</td>\n",
       "      <td>70,000.00</td>\n",
       "      <td>100.0</td>\n",
       "    </tr>\n",
       "    <tr>\n",
       "      <th>1</th>\n",
       "      <td>1099</td>\n",
       "      <td>D8</td>\n",
       "      <td>11.93</td>\n",
       "      <td>21.09</td>\n",
       "      <td>36</td>\n",
       "      <td>10.81</td>\n",
       "      <td>60,000.00</td>\n",
       "      <td>100.0</td>\n",
       "    </tr>\n",
       "    <tr>\n",
       "      <th>2</th>\n",
       "      <td>1098</td>\n",
       "      <td>D8</td>\n",
       "      <td>12.78</td>\n",
       "      <td>22.46</td>\n",
       "      <td>36</td>\n",
       "      <td>11.15</td>\n",
       "      <td>55,000.00</td>\n",
       "      <td>100.0</td>\n",
       "    </tr>\n",
       "    <tr>\n",
       "      <th>3</th>\n",
       "      <td>1096</td>\n",
       "      <td>D7</td>\n",
       "      <td>12.19</td>\n",
       "      <td>21.51</td>\n",
       "      <td>36</td>\n",
       "      <td>6.95</td>\n",
       "      <td>100,000.00</td>\n",
       "      <td>100.0</td>\n",
       "    </tr>\n",
       "    <tr>\n",
       "      <th>4</th>\n",
       "      <td>1095</td>\n",
       "      <td>B4</td>\n",
       "      <td>10.58</td>\n",
       "      <td>19.15</td>\n",
       "      <td>24</td>\n",
       "      <td>3.60</td>\n",
       "      <td>20,000.00</td>\n",
       "      <td>100.0</td>\n",
       "    </tr>\n",
       "  </tbody>\n",
       "</table>\n",
       "</div>"
      ],
      "text/plain": [
       "   Note_ID Grade  Rate_%  Effective_Rate_%  Term   PD_%     Funding  Funded_%\n",
       "0     1101    D8   13.28             23.26    36  10.48   70,000.00     100.0\n",
       "1     1099    D8   11.93             21.09    36  10.81   60,000.00     100.0\n",
       "2     1098    D8   12.78             22.46    36  11.15   55,000.00     100.0\n",
       "3     1096    D7   12.19             21.51    36   6.95  100,000.00     100.0\n",
       "4     1095    B4   10.58             19.15    24   3.60   20,000.00     100.0"
      ]
     },
     "execution_count": 51,
     "metadata": {},
     "output_type": "execute_result"
    }
   ],
   "source": [
    "df.head()"
   ]
  },
  {
   "cell_type": "code",
   "execution_count": 4,
   "metadata": {},
   "outputs": [
    {
     "name": "stdout",
     "output_type": "stream",
     "text": [
      "<class 'pandas.core.frame.DataFrame'>\n",
      "Int64Index: 952 entries, 0 to 951\n",
      "Data columns (total 8 columns):\n",
      "Note_ID             952 non-null int64\n",
      "Grade               952 non-null object\n",
      "Rate_%              952 non-null float64\n",
      "Effective_Rate_%    952 non-null float64\n",
      "Term                952 non-null int64\n",
      "PD_%                952 non-null float64\n",
      "Funding             952 non-null object\n",
      "Funded_%            952 non-null float64\n",
      "dtypes: float64(4), int64(2), object(2)\n",
      "memory usage: 66.9+ KB\n"
     ]
    }
   ],
   "source": [
    "df.info()"
   ]
  },
  {
   "cell_type": "code",
   "execution_count": 5,
   "metadata": {},
   "outputs": [],
   "source": [
    "df.Funding = df.Funding.apply(lambda x: x.replace(\",\", ''))\n",
    "df.Funding = df.Funding.astype('float64')"
   ]
  },
  {
   "cell_type": "code",
   "execution_count": 6,
   "metadata": {},
   "outputs": [],
   "source": [
    "from sklearn.preprocessing import LabelEncoder\n",
    "\n",
    "le = LabelEncoder()\n",
    "df.Grade = le.fit_transform(df.Grade) + 1"
   ]
  },
  {
   "cell_type": "code",
   "execution_count": 7,
   "metadata": {},
   "outputs": [
    {
     "name": "stderr",
     "output_type": "stream",
     "text": [
      "/Users/weeliptan/anaconda3/envs/learn-env/lib/python3.6/site-packages/scipy/stats/stats.py:1713: FutureWarning: Using a non-tuple sequence for multidimensional indexing is deprecated; use `arr[tuple(seq)]` instead of `arr[seq]`. In the future this will be interpreted as an array index, `arr[np.array(seq)]`, which will result either in an error or a different result.\n",
      "  return np.add.reduce(sorted[indexer] * weights, axis=axis) / sumval\n"
     ]
    },
    {
     "data": {
      "image/png": "[encoded data removed]",
      "text/plain": [
       "<Figure size 360x360 with 1 Axes>"
      ]
     },
     "metadata": {
      "needs_background": "light"
     },
     "output_type": "display_data"
    },
    {
     "data": {
      "image/png": "[encoded data removed]",
      "text/plain": [
       "<Figure size 360x360 with 1 Axes>"
      ]
     },
     "metadata": {
      "needs_background": "light"
     },
     "output_type": "display_data"
    },
    {
     "data": {
      "image/png": "[encoded data removed]",
      "text/plain": [
       "<Figure size 360x360 with 1 Axes>"
      ]
     },
     "metadata": {
      "needs_background": "light"
     },
     "output_type": "display_data"
    },
    {
     "data": {
      "image/png": "[encoded data removed]",
      "text/plain": [
       "<Figure size 360x360 with 1 Axes>"
      ]
     },
     "metadata": {
      "needs_background": "light"
     },
     "output_type": "display_data"
    },
    {
     "data": {
      "image/png": "[encoded data removed]",
      "text/plain": [
       "<Figure size 360x360 with 1 Axes>"
      ]
     },
     "metadata": {
      "needs_background": "light"
     },
     "output_type": "display_data"
    }
   ],
   "source": [
    "for i in ['Grade', 'Term', 'PD_%', 'Funding', 'Effective_Rate_%']:\n",
    "    sns.lmplot(i, 'Rate_%', df)\n",
    "    plt.show()"
   ]
  },
  {
   "cell_type": "code",
   "execution_count": 8,
   "metadata": {},
   "outputs": [],
   "source": [
    "rows_to_drop = df[df['Funded_%'] < 100].index\n",
    "df.drop(rows_to_drop, axis = 0, inplace = True)"
   ]
  },
  {
   "cell_type": "code",
   "execution_count": 9,
   "metadata": {},
   "outputs": [],
   "source": [
    "X = df.drop(['Note_ID', 'Rate_%', 'Effective_Rate_%', 'Funded_%'], axis = 1)\n",
    "y = df['Rate_%']"
   ]
  },
  {
   "cell_type": "code",
   "execution_count": 10,
   "metadata": {},
   "outputs": [
    {
     "data": {
      "text/html": [
       "<div>\n",
       "<style scoped>\n",
       "    .dataframe tbody tr th:only-of-type {\n",
       "        vertical-align: middle;\n",
       "    }\n",
       "\n",
       "    .dataframe tbody tr th {\n",
       "        vertical-align: top;\n",
       "    }\n",
       "\n",
       "    .dataframe thead th {\n",
       "        text-align: right;\n",
       "    }\n",
       "</style>\n",
       "<table border=\"1\" class=\"dataframe\">\n",
       "  <thead>\n",
       "    <tr style=\"text-align: right;\">\n",
       "      <th></th>\n",
       "      <th>Grade</th>\n",
       "      <th>Term</th>\n",
       "      <th>PD_%</th>\n",
       "      <th>Funding</th>\n",
       "    </tr>\n",
       "  </thead>\n",
       "  <tbody>\n",
       "    <tr>\n",
       "      <th>Grade</th>\n",
       "      <td>1.000000</td>\n",
       "      <td>0.013325</td>\n",
       "      <td>0.893097</td>\n",
       "      <td>0.039734</td>\n",
       "    </tr>\n",
       "    <tr>\n",
       "      <th>Term</th>\n",
       "      <td>0.013325</td>\n",
       "      <td>1.000000</td>\n",
       "      <td>0.009657</td>\n",
       "      <td>0.084883</td>\n",
       "    </tr>\n",
       "    <tr>\n",
       "      <th>PD_%</th>\n",
       "      <td>0.893097</td>\n",
       "      <td>0.009657</td>\n",
       "      <td>1.000000</td>\n",
       "      <td>0.004774</td>\n",
       "    </tr>\n",
       "    <tr>\n",
       "      <th>Funding</th>\n",
       "      <td>0.039734</td>\n",
       "      <td>0.084883</td>\n",
       "      <td>0.004774</td>\n",
       "      <td>1.000000</td>\n",
       "    </tr>\n",
       "  </tbody>\n",
       "</table>\n",
       "</div>"
      ],
      "text/plain": [
       "            Grade      Term      PD_%   Funding\n",
       "Grade    1.000000  0.013325  0.893097  0.039734\n",
       "Term     0.013325  1.000000  0.009657  0.084883\n",
       "PD_%     0.893097  0.009657  1.000000  0.004774\n",
       "Funding  0.039734  0.084883  0.004774  1.000000"
      ]
     },
     "execution_count": 10,
     "metadata": {},
     "output_type": "execute_result"
    }
   ],
   "source": [
    "X.corr()"
   ]
  },
  {
   "cell_type": "code",
   "execution_count": 11,
   "metadata": {},
   "outputs": [],
   "source": [
    "X = X.drop('Grade', axis = 1)"
   ]
  },
  {
   "cell_type": "markdown",
   "metadata": {},
   "source": [
    "# Basic Regression Model"
   ]
  },
  {
   "cell_type": "code",
   "execution_count": 12,
   "metadata": {},
   "outputs": [],
   "source": [
    "from statsmodels.regression.linear_model import OLS\n",
    "from statsmodels.tools import add_constant"
   ]
  },
  {
   "cell_type": "code",
   "execution_count": 13,
   "metadata": {},
   "outputs": [],
   "source": [
    "final = OLS(y, add_constant(X)).fit()"
   ]
  },
  {
   "cell_type": "code",
   "execution_count": 14,
   "metadata": {},
   "outputs": [
    {
     "data": {
      "text/html": [
       "<table class=\"simpletable\">\n",
       "<caption>OLS Regression Results</caption>\n",
       "<tr>\n",
       "  <th>Dep. Variable:</th>         <td>Rate_%</td>      <th>  R-squared:         </th> <td>   0.564</td> \n",
       "</tr>\n",
       "<tr>\n",
       "  <th>Model:</th>                   <td>OLS</td>       <th>  Adj. R-squared:    </th> <td>   0.562</td> \n",
       "</tr>\n",
       "<tr>\n",
       "  <th>Method:</th>             <td>Least Squares</td>  <th>  F-statistic:       </th> <td>   354.2</td> \n",
       "</tr>\n",
       "<tr>\n",
       "  <th>Date:</th>             <td>Sat, 08 Feb 2020</td> <th>  Prob (F-statistic):</th> <td>1.33e-147</td>\n",
       "</tr>\n",
       "<tr>\n",
       "  <th>Time:</th>                 <td>14:04:49</td>     <th>  Log-Likelihood:    </th> <td> -1094.3</td> \n",
       "</tr>\n",
       "<tr>\n",
       "  <th>No. Observations:</th>      <td>   826</td>      <th>  AIC:               </th> <td>   2197.</td> \n",
       "</tr>\n",
       "<tr>\n",
       "  <th>Df Residuals:</th>          <td>   822</td>      <th>  BIC:               </th> <td>   2215.</td> \n",
       "</tr>\n",
       "<tr>\n",
       "  <th>Df Model:</th>              <td>     3</td>      <th>                     </th>     <td> </td>    \n",
       "</tr>\n",
       "<tr>\n",
       "  <th>Covariance Type:</th>      <td>nonrobust</td>    <th>                     </th>     <td> </td>    \n",
       "</tr>\n",
       "</table>\n",
       "<table class=\"simpletable\">\n",
       "<tr>\n",
       "     <td></td>        <th>coef</th>     <th>std err</th>      <th>t</th>      <th>P>|t|</th>  <th>[0.025</th>    <th>0.975]</th>  \n",
       "</tr>\n",
       "<tr>\n",
       "  <th>const</th>   <td>    8.9370</td> <td>    0.182</td> <td>   49.075</td> <td> 0.000</td> <td>    8.580</td> <td>    9.294</td>\n",
       "</tr>\n",
       "<tr>\n",
       "  <th>Term</th>    <td>    0.0434</td> <td>    0.005</td> <td>    9.071</td> <td> 0.000</td> <td>    0.034</td> <td>    0.053</td>\n",
       "</tr>\n",
       "<tr>\n",
       "  <th>PD_%</th>    <td>    0.3065</td> <td>    0.011</td> <td>   27.953</td> <td> 0.000</td> <td>    0.285</td> <td>    0.328</td>\n",
       "</tr>\n",
       "<tr>\n",
       "  <th>Funding</th> <td>-1.617e-05</td> <td> 1.09e-06</td> <td>  -14.790</td> <td> 0.000</td> <td>-1.83e-05</td> <td> -1.4e-05</td>\n",
       "</tr>\n",
       "</table>\n",
       "<table class=\"simpletable\">\n",
       "<tr>\n",
       "  <th>Omnibus:</th>       <td>36.868</td> <th>  Durbin-Watson:     </th> <td>   1.379</td>\n",
       "</tr>\n",
       "<tr>\n",
       "  <th>Prob(Omnibus):</th> <td> 0.000</td> <th>  Jarque-Bera (JB):  </th> <td>  40.703</td>\n",
       "</tr>\n",
       "<tr>\n",
       "  <th>Skew:</th>          <td>-0.521</td> <th>  Prob(JB):          </th> <td>1.45e-09</td>\n",
       "</tr>\n",
       "<tr>\n",
       "  <th>Kurtosis:</th>      <td> 3.314</td> <th>  Cond. No.          </th> <td>4.67e+05</td>\n",
       "</tr>\n",
       "</table><br/><br/>Warnings:<br/>[1] Standard Errors assume that the covariance matrix of the errors is correctly specified.<br/>[2] The condition number is large, 4.67e+05. This might indicate that there are<br/>strong multicollinearity or other numerical problems."
      ],
      "text/plain": [
       "<class 'statsmodels.iolib.summary.Summary'>\n",
       "\"\"\"\n",
       "                            OLS Regression Results                            \n",
       "==============================================================================\n",
       "Dep. Variable:                 Rate_%   R-squared:                       0.564\n",
       "Model:                            OLS   Adj. R-squared:                  0.562\n",
       "Method:                 Least Squares   F-statistic:                     354.2\n",
       "Date:                Sat, 08 Feb 2020   Prob (F-statistic):          1.33e-147\n",
       "Time:                        14:04:49   Log-Likelihood:                -1094.3\n",
       "No. Observations:                 826   AIC:                             2197.\n",
       "Df Residuals:                     822   BIC:                             2215.\n",
       "Df Model:                           3                                         \n",
       "Covariance Type:            nonrobust                                         \n",
       "==============================================================================\n",
       "                 coef    std err          t      P>|t|      [0.025      0.975]\n",
       "------------------------------------------------------------------------------\n",
       "const          8.9370      0.182     49.075      0.000       8.580       9.294\n",
       "Term           0.0434      0.005      9.071      0.000       0.034       0.053\n",
       "PD_%           0.3065      0.011     27.953      0.000       0.285       0.328\n",
       "Funding    -1.617e-05   1.09e-06    -14.790      0.000   -1.83e-05    -1.4e-05\n",
       "==============================================================================\n",
       "Omnibus:                       36.868   Durbin-Watson:                   1.379\n",
       "Prob(Omnibus):                  0.000   Jarque-Bera (JB):               40.703\n",
       "Skew:                          -0.521   Prob(JB):                     1.45e-09\n",
       "Kurtosis:                       3.314   Cond. No.                     4.67e+05\n",
       "==============================================================================\n",
       "\n",
       "Warnings:\n",
       "[1] Standard Errors assume that the covariance matrix of the errors is correctly specified.\n",
       "[2] The condition number is large, 4.67e+05. This might indicate that there are\n",
       "strong multicollinearity or other numerical problems.\n",
       "\"\"\""
      ]
     },
     "execution_count": 14,
     "metadata": {},
     "output_type": "execute_result"
    }
   ],
   "source": [
    "final.summary()"
   ]
  },
  {
   "cell_type": "code",
   "execution_count": 15,
   "metadata": {},
   "outputs": [],
   "source": [
    "def predict(x):\n",
    "    subset = x[['Term', 'PD_%', 'Funding']].values\n",
    "    add_constant = np.append([1], subset)\n",
    "    prediction = final.predict(add_constant)\n",
    "    return round(prediction[0], 2)\n",
    "\n",
    "def invest_decision(x):\n",
    "    if x['Delta_%'] >= 1.00:\n",
    "        return 'Yes'\n",
    "    else:\n",
    "        return 'No'"
   ]
  },
  {
   "cell_type": "code",
   "execution_count": 16,
   "metadata": {},
   "outputs": [],
   "source": [
    "df['Predicted_Rate_%'] = df.apply(predict, axis = 1)\n",
    "df['Delta_%'] = df['Rate_%'] - df['Predicted_Rate_%']\n",
    "df['Invest'] = df.apply(invest_decision, axis = 1)"
   ]
  },
  {
   "cell_type": "code",
   "execution_count": 17,
   "metadata": {},
   "outputs": [
    {
     "data": {
      "text/html": [
       "<div>\n",
       "<style scoped>\n",
       "    .dataframe tbody tr th:only-of-type {\n",
       "        vertical-align: middle;\n",
       "    }\n",
       "\n",
       "    .dataframe tbody tr th {\n",
       "        vertical-align: top;\n",
       "    }\n",
       "\n",
       "    .dataframe thead th {\n",
       "        text-align: right;\n",
       "    }\n",
       "</style>\n",
       "<table border=\"1\" class=\"dataframe\">\n",
       "  <thead>\n",
       "    <tr style=\"text-align: right;\">\n",
       "      <th></th>\n",
       "      <th>Note_ID</th>\n",
       "      <th>Grade</th>\n",
       "      <th>Rate_%</th>\n",
       "      <th>Effective_Rate_%</th>\n",
       "      <th>Term</th>\n",
       "      <th>PD_%</th>\n",
       "      <th>Funding</th>\n",
       "      <th>Funded_%</th>\n",
       "      <th>Predicted_Rate_%</th>\n",
       "      <th>Delta_%</th>\n",
       "      <th>Invest</th>\n",
       "    </tr>\n",
       "  </thead>\n",
       "  <tbody>\n",
       "    <tr>\n",
       "      <th>0</th>\n",
       "      <td>1101</td>\n",
       "      <td>8</td>\n",
       "      <td>13.28</td>\n",
       "      <td>23.26</td>\n",
       "      <td>36</td>\n",
       "      <td>10.48</td>\n",
       "      <td>70000.0</td>\n",
       "      <td>100.0</td>\n",
       "      <td>12.58</td>\n",
       "      <td>0.70</td>\n",
       "      <td>No</td>\n",
       "    </tr>\n",
       "    <tr>\n",
       "      <th>1</th>\n",
       "      <td>1099</td>\n",
       "      <td>8</td>\n",
       "      <td>11.93</td>\n",
       "      <td>21.09</td>\n",
       "      <td>36</td>\n",
       "      <td>10.81</td>\n",
       "      <td>60000.0</td>\n",
       "      <td>100.0</td>\n",
       "      <td>12.84</td>\n",
       "      <td>-0.91</td>\n",
       "      <td>No</td>\n",
       "    </tr>\n",
       "    <tr>\n",
       "      <th>2</th>\n",
       "      <td>1098</td>\n",
       "      <td>8</td>\n",
       "      <td>12.78</td>\n",
       "      <td>22.46</td>\n",
       "      <td>36</td>\n",
       "      <td>11.15</td>\n",
       "      <td>55000.0</td>\n",
       "      <td>100.0</td>\n",
       "      <td>13.03</td>\n",
       "      <td>-0.25</td>\n",
       "      <td>No</td>\n",
       "    </tr>\n",
       "    <tr>\n",
       "      <th>3</th>\n",
       "      <td>1096</td>\n",
       "      <td>7</td>\n",
       "      <td>12.19</td>\n",
       "      <td>21.51</td>\n",
       "      <td>36</td>\n",
       "      <td>6.95</td>\n",
       "      <td>100000.0</td>\n",
       "      <td>100.0</td>\n",
       "      <td>11.01</td>\n",
       "      <td>1.18</td>\n",
       "      <td>Yes</td>\n",
       "    </tr>\n",
       "    <tr>\n",
       "      <th>4</th>\n",
       "      <td>1095</td>\n",
       "      <td>4</td>\n",
       "      <td>10.58</td>\n",
       "      <td>19.15</td>\n",
       "      <td>24</td>\n",
       "      <td>3.60</td>\n",
       "      <td>20000.0</td>\n",
       "      <td>100.0</td>\n",
       "      <td>10.76</td>\n",
       "      <td>-0.18</td>\n",
       "      <td>No</td>\n",
       "    </tr>\n",
       "  </tbody>\n",
       "</table>\n",
       "</div>"
      ],
      "text/plain": [
       "   Note_ID  Grade  Rate_%  Effective_Rate_%  Term   PD_%   Funding  Funded_%  \\\n",
       "0     1101      8   13.28             23.26    36  10.48   70000.0     100.0   \n",
       "1     1099      8   11.93             21.09    36  10.81   60000.0     100.0   \n",
       "2     1098      8   12.78             22.46    36  11.15   55000.0     100.0   \n",
       "3     1096      7   12.19             21.51    36   6.95  100000.0     100.0   \n",
       "4     1095      4   10.58             19.15    24   3.60   20000.0     100.0   \n",
       "\n",
       "   Predicted_Rate_%  Delta_% Invest  \n",
       "0             12.58     0.70     No  \n",
       "1             12.84    -0.91     No  \n",
       "2             13.03    -0.25     No  \n",
       "3             11.01     1.18    Yes  \n",
       "4             10.76    -0.18     No  "
      ]
     },
     "execution_count": 17,
     "metadata": {},
     "output_type": "execute_result"
    }
   ],
   "source": [
    "df.head()"
   ]
  },
  {
   "cell_type": "code",
   "execution_count": 19,
   "metadata": {},
   "outputs": [
    {
     "data": {
      "text/html": [
       "<div>\n",
       "<style scoped>\n",
       "    .dataframe tbody tr th:only-of-type {\n",
       "        vertical-align: middle;\n",
       "    }\n",
       "\n",
       "    .dataframe tbody tr th {\n",
       "        vertical-align: top;\n",
       "    }\n",
       "\n",
       "    .dataframe thead th {\n",
       "        text-align: right;\n",
       "    }\n",
       "</style>\n",
       "<table border=\"1\" class=\"dataframe\">\n",
       "  <thead>\n",
       "    <tr style=\"text-align: right;\">\n",
       "      <th></th>\n",
       "      <th>Note_ID</th>\n",
       "      <th>Grade</th>\n",
       "      <th>Rate_%</th>\n",
       "      <th>Effective_Rate_%</th>\n",
       "      <th>Term</th>\n",
       "      <th>PD_%</th>\n",
       "      <th>Funding</th>\n",
       "      <th>Funded_%</th>\n",
       "      <th>Predicted_Rate_%</th>\n",
       "      <th>Delta_%</th>\n",
       "    </tr>\n",
       "  </thead>\n",
       "  <tbody>\n",
       "    <tr>\n",
       "      <th>0</th>\n",
       "      <td>1096</td>\n",
       "      <td>7</td>\n",
       "      <td>12.19</td>\n",
       "      <td>21.51</td>\n",
       "      <td>36</td>\n",
       "      <td>6.95</td>\n",
       "      <td>100000.0</td>\n",
       "      <td>100.0</td>\n",
       "      <td>11.01</td>\n",
       "      <td>1.18</td>\n",
       "    </tr>\n",
       "    <tr>\n",
       "      <th>1</th>\n",
       "      <td>1093</td>\n",
       "      <td>8</td>\n",
       "      <td>12.78</td>\n",
       "      <td>22.46</td>\n",
       "      <td>36</td>\n",
       "      <td>9.25</td>\n",
       "      <td>100000.0</td>\n",
       "      <td>100.0</td>\n",
       "      <td>11.72</td>\n",
       "      <td>1.06</td>\n",
       "    </tr>\n",
       "    <tr>\n",
       "      <th>2</th>\n",
       "      <td>1086</td>\n",
       "      <td>6</td>\n",
       "      <td>12.08</td>\n",
       "      <td>21.33</td>\n",
       "      <td>36</td>\n",
       "      <td>5.01</td>\n",
       "      <td>70000.0</td>\n",
       "      <td>100.0</td>\n",
       "      <td>10.90</td>\n",
       "      <td>1.18</td>\n",
       "    </tr>\n",
       "    <tr>\n",
       "      <th>3</th>\n",
       "      <td>1075</td>\n",
       "      <td>7</td>\n",
       "      <td>12.69</td>\n",
       "      <td>22.31</td>\n",
       "      <td>36</td>\n",
       "      <td>7.41</td>\n",
       "      <td>70000.0</td>\n",
       "      <td>100.0</td>\n",
       "      <td>11.64</td>\n",
       "      <td>1.05</td>\n",
       "    </tr>\n",
       "    <tr>\n",
       "      <th>4</th>\n",
       "      <td>1071</td>\n",
       "      <td>6</td>\n",
       "      <td>12.08</td>\n",
       "      <td>21.33</td>\n",
       "      <td>36</td>\n",
       "      <td>4.85</td>\n",
       "      <td>70000.0</td>\n",
       "      <td>100.0</td>\n",
       "      <td>10.86</td>\n",
       "      <td>1.22</td>\n",
       "    </tr>\n",
       "  </tbody>\n",
       "</table>\n",
       "</div>"
      ],
      "text/plain": [
       "   Note_ID  Grade  Rate_%  Effective_Rate_%  Term  PD_%   Funding  Funded_%  \\\n",
       "0     1096      7   12.19             21.51    36  6.95  100000.0     100.0   \n",
       "1     1093      8   12.78             22.46    36  9.25  100000.0     100.0   \n",
       "2     1086      6   12.08             21.33    36  5.01   70000.0     100.0   \n",
       "3     1075      7   12.69             22.31    36  7.41   70000.0     100.0   \n",
       "4     1071      6   12.08             21.33    36  4.85   70000.0     100.0   \n",
       "\n",
       "   Predicted_Rate_%  Delta_%  \n",
       "0             11.01     1.18  \n",
       "1             11.72     1.06  \n",
       "2             10.90     1.18  \n",
       "3             11.64     1.05  \n",
       "4             10.86     1.22  "
      ]
     },
     "execution_count": 19,
     "metadata": {},
     "output_type": "execute_result"
    }
   ],
   "source": [
    "yes_invest = df[df.Invest == 'Yes'].drop('Invest', axis = 1).reset_index(drop = True)\n",
    "yes_invest.head()"
   ]
  },
  {
   "cell_type": "markdown",
   "metadata": {},
   "source": [
    "# Construct Recommendation Engine using Cosine Similarity"
   ]
  },
  {
   "cell_type": "code",
   "execution_count": 20,
   "metadata": {},
   "outputs": [],
   "source": [
    "from sklearn.preprocessing import MinMaxScaler"
   ]
  },
  {
   "cell_type": "code",
   "execution_count": 21,
   "metadata": {},
   "outputs": [],
   "source": [
    "mm = MinMaxScaler()\n",
    "yes_invest_scaled = mm.fit_transform(yes_invest.iloc[:, 1:])"
   ]
  },
  {
   "cell_type": "code",
   "execution_count": 22,
   "metadata": {},
   "outputs": [],
   "source": [
    "test = pd.concat([yes_invest.Note_ID, pd.DataFrame(yes_invest_scaled, columns = yes_invest.columns[1:])], axis = 1)"
   ]
  },
  {
   "cell_type": "code",
   "execution_count": 23,
   "metadata": {},
   "outputs": [
    {
     "data": {
      "text/plain": [
       "array([5.000e+00, 1.043e+01, 1.863e+01, 3.600e+01, 3.850e+00, 1.500e+05,\n",
       "       1.000e+02, 9.260e+00, 1.170e+00])"
      ]
     },
     "execution_count": 23,
     "metadata": {},
     "output_type": "execute_result"
    }
   ],
   "source": [
    "chosen_id = 742\n",
    "chosen_array = df[df.Note_ID == chosen_id].iloc[:, 1:10].values[0]\n",
    "chosen_array"
   ]
  },
  {
   "cell_type": "code",
   "execution_count": 24,
   "metadata": {},
   "outputs": [],
   "source": [
    "def cosine(x):\n",
    "    b = x[['Grade', 'Rate_%', 'Effective_Rate_%', 'Term', 'PD_%','Funding', 'Funded_%', 'Predicted_Rate_%', 'Delta_%']].values\n",
    "    \n",
    "    dot = np.dot(chosen_array, b)\n",
    "    norm_chosen = np.linalg.norm(chosen_array)\n",
    "    norm_b = np.linalg.norm(b)\n",
    "    cos = dot / (norm_chosen * norm_b)\n",
    "    \n",
    "    return cos"
   ]
  },
  {
   "cell_type": "code",
   "execution_count": 25,
   "metadata": {},
   "outputs": [],
   "source": [
    "test['Cosine'] = test.apply(cosine, axis = 1)"
   ]
  },
  {
   "cell_type": "code",
   "execution_count": 26,
   "metadata": {},
   "outputs": [
    {
     "data": {
      "text/plain": [
       "array([388, 698, 946, 742, 151])"
      ]
     },
     "execution_count": 26,
     "metadata": {},
     "output_type": "execute_result"
    }
   ],
   "source": [
    "recommendation_id = test.sort_values(by = 'Cosine', ascending = False)[1:6]['Note_ID'].values\n",
    "recommendation_id"
   ]
  },
  {
   "cell_type": "code",
   "execution_count": 27,
   "metadata": {},
   "outputs": [
    {
     "data": {
      "text/html": [
       "<div>\n",
       "<style scoped>\n",
       "    .dataframe tbody tr th:only-of-type {\n",
       "        vertical-align: middle;\n",
       "    }\n",
       "\n",
       "    .dataframe tbody tr th {\n",
       "        vertical-align: top;\n",
       "    }\n",
       "\n",
       "    .dataframe thead th {\n",
       "        text-align: right;\n",
       "    }\n",
       "</style>\n",
       "<table border=\"1\" class=\"dataframe\">\n",
       "  <thead>\n",
       "    <tr style=\"text-align: right;\">\n",
       "      <th></th>\n",
       "      <th>Note_ID</th>\n",
       "      <th>Grade</th>\n",
       "      <th>Rate_%</th>\n",
       "      <th>Effective_Rate_%</th>\n",
       "      <th>Term</th>\n",
       "      <th>PD_%</th>\n",
       "      <th>Funding</th>\n",
       "      <th>Funded_%</th>\n",
       "      <th>Predicted_Rate_%</th>\n",
       "      <th>Delta_%</th>\n",
       "      <th>Invest</th>\n",
       "    </tr>\n",
       "  </thead>\n",
       "  <tbody>\n",
       "    <tr>\n",
       "      <th>126</th>\n",
       "      <td>946</td>\n",
       "      <td>5</td>\n",
       "      <td>10.43</td>\n",
       "      <td>18.90</td>\n",
       "      <td>24</td>\n",
       "      <td>3.72</td>\n",
       "      <td>150000.0</td>\n",
       "      <td>100.0</td>\n",
       "      <td>8.69</td>\n",
       "      <td>1.74</td>\n",
       "      <td>Yes</td>\n",
       "    </tr>\n",
       "    <tr>\n",
       "      <th>284</th>\n",
       "      <td>742</td>\n",
       "      <td>5</td>\n",
       "      <td>10.43</td>\n",
       "      <td>18.63</td>\n",
       "      <td>36</td>\n",
       "      <td>3.85</td>\n",
       "      <td>150000.0</td>\n",
       "      <td>100.0</td>\n",
       "      <td>9.26</td>\n",
       "      <td>1.17</td>\n",
       "      <td>Yes</td>\n",
       "    </tr>\n",
       "    <tr>\n",
       "      <th>321</th>\n",
       "      <td>698</td>\n",
       "      <td>6</td>\n",
       "      <td>10.23</td>\n",
       "      <td>18.55</td>\n",
       "      <td>24</td>\n",
       "      <td>5.35</td>\n",
       "      <td>150000.0</td>\n",
       "      <td>100.0</td>\n",
       "      <td>9.19</td>\n",
       "      <td>1.04</td>\n",
       "      <td>Yes</td>\n",
       "    </tr>\n",
       "    <tr>\n",
       "      <th>567</th>\n",
       "      <td>388</td>\n",
       "      <td>6</td>\n",
       "      <td>10.23</td>\n",
       "      <td>18.30</td>\n",
       "      <td>36</td>\n",
       "      <td>4.99</td>\n",
       "      <td>200000.0</td>\n",
       "      <td>100.0</td>\n",
       "      <td>8.80</td>\n",
       "      <td>1.43</td>\n",
       "      <td>Yes</td>\n",
       "    </tr>\n",
       "    <tr>\n",
       "      <th>801</th>\n",
       "      <td>151</td>\n",
       "      <td>5</td>\n",
       "      <td>10.79</td>\n",
       "      <td>19.51</td>\n",
       "      <td>24</td>\n",
       "      <td>3.85</td>\n",
       "      <td>100000.0</td>\n",
       "      <td>100.0</td>\n",
       "      <td>9.54</td>\n",
       "      <td>1.25</td>\n",
       "      <td>Yes</td>\n",
       "    </tr>\n",
       "  </tbody>\n",
       "</table>\n",
       "</div>"
      ],
      "text/plain": [
       "     Note_ID  Grade  Rate_%  Effective_Rate_%  Term  PD_%   Funding  Funded_%  \\\n",
       "126      946      5   10.43             18.90    24  3.72  150000.0     100.0   \n",
       "284      742      5   10.43             18.63    36  3.85  150000.0     100.0   \n",
       "321      698      6   10.23             18.55    24  5.35  150000.0     100.0   \n",
       "567      388      6   10.23             18.30    36  4.99  200000.0     100.0   \n",
       "801      151      5   10.79             19.51    24  3.85  100000.0     100.0   \n",
       "\n",
       "     Predicted_Rate_%  Delta_% Invest  \n",
       "126              8.69     1.74    Yes  \n",
       "284              9.26     1.17    Yes  \n",
       "321              9.19     1.04    Yes  \n",
       "567              8.80     1.43    Yes  \n",
       "801              9.54     1.25    Yes  "
      ]
     },
     "execution_count": 27,
     "metadata": {},
     "output_type": "execute_result"
    }
   ],
   "source": [
    "df[df.Note_ID.isin(recommendation_id)]"
   ]
  }
 ],
 "metadata": {
  "kernelspec": {
   "display_name": "Python 3",
   "language": "python",
   "name": "python3"
  },
  "language_info": {
   "codemirror_mode": {
    "name": "ipython",
    "version": 3
   },
   "file_extension": ".py",
   "mimetype": "text/x-python",
   "name": "python",
   "nbconvert_exporter": "python",
   "pygments_lexer": "ipython3",
   "version": "3.6.6"
  }
 },
 "nbformat": 4,
 "nbformat_minor": 2
}
